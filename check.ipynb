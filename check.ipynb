{
 "cells": [
  {
   "cell_type": "code",
   "execution_count": 17,
   "metadata": {},
   "outputs": [
    {
     "name": "stdout",
     "output_type": "stream",
     "text": [
      "3.2\n",
      "2.5828881835937505\n",
      "2.120235381259586\n",
      "1.8149496019658327\n",
      "1.6731433017463495\n",
      "1.6447664663170158\n",
      "1.6437530805798826\n"
     ]
    }
   ],
   "source": [
    "A = int(input(\">>> Value 'A'= \"))\n",
    "n = int(input(\">>> Value 'n'= \"))\n",
    "x = 1\n",
    "\n",
    "while True:\n",
    "    x_1 = (1/n)*((n-1)*x+A/pow(x,n-1))\n",
    "    if round(x_1,4) == round(x,4):\n",
    "        break\n",
    "    x = x_1 \n",
    "    print(x_1)\n",
    "    round(x_1,4) != round(x,4)"
   ]
  },
  {
   "cell_type": "code",
   "execution_count": 27,
   "metadata": {},
   "outputs": [
    {
     "name": "stdout",
     "output_type": "stream",
     "text": [
      "1.5849\n"
     ]
    }
   ],
   "source": []
  },
  {
   "cell_type": "code",
   "execution_count": 82,
   "metadata": {},
   "outputs": [
    {
     "name": "stdout",
     "output_type": "stream",
     "text": [
      "initial position =  3.5388\n",
      "The 5 th root of 555 is 3.5388 \n",
      "iteration count = 0\n"
     ]
    }
   ],
   "source": [
    "A = int(input(\">>> Value 'A'= \"))\n",
    "n = int(input(\">>> Value 'n'= \"))\n",
    "x = pow(A,1/n)\n",
    "iteration_count = 0\n",
    "print('initial position = ', round(x,4))\n",
    "\n",
    "while 1:\n",
    "    \n",
    "    x_1 = (1/n)*((n-1)*x+A/pow(x,n-1))\n",
    "    \n",
    "    if round(x,4) == round(x_1,4):\n",
    "        break\n",
    "    print(x_1)\n",
    "    iteration_count += 1\n",
    "    x = x_1\n",
    "\n",
    "print('The', n, 'th root of', A, 'is', round(x_1,4),\n",
    "'\\niteration count =', iteration_count,)"
   ]
  },
  {
   "cell_type": "code",
   "execution_count": 89,
   "metadata": {},
   "outputs": [
    {
     "name": "stdout",
     "output_type": "stream",
     "text": [
      "initial position =  3.5388\n",
      "3.5388\n",
      "The 5 th root of 555 is 3.5388 \n",
      "iteration count = 1\n"
     ]
    }
   ],
   "source": [
    "A = int(input(\">>> Value 'A'= \"))\n",
    "n = int(input(\">>> Value 'n'= \"))\n",
    "x = pow(A,1/n)\n",
    "iteration_count = 0\n",
    "print('initial position = ', round(x,4))\n",
    "\n",
    "while 1:\n",
    "    x_1 = (1/n)*((n-1)*x+A/pow(x,n-1))\n",
    "    \n",
    "    if round(x,4) == round(x_1,4):\n",
    "        iteration_count += 1\n",
    "        break\n",
    "   \n",
    "    iteration_count += 1\n",
    "    x = x_1\n",
    "\n",
    "print('The', n, 'th root of', A, 'is', round(x_1,4),\n",
    "'\\niteration count =', iteration_count,)"
   ]
  }
 ],
 "metadata": {
  "kernelspec": {
   "display_name": "Python 3",
   "language": "python",
   "name": "python3"
  },
  "language_info": {
   "codemirror_mode": {
    "name": "ipython",
    "version": 3
   },
   "file_extension": ".py",
   "mimetype": "text/x-python",
   "name": "python",
   "nbconvert_exporter": "python",
   "pygments_lexer": "ipython3",
   "version": "3.10.12"
  }
 },
 "nbformat": 4,
 "nbformat_minor": 2
}
